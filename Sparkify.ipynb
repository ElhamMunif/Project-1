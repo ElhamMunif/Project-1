{
 "cells": [
  {
   "cell_type": "markdown",
   "metadata": {},
   "source": [
    "# Sparkify Project Workspace\n",
    "This workspace contains a tiny subset (128MB) of the full dataset available (12GB). Feel free to use this workspace to build your project, or\n",
    "\n",
    "to explore a smaller subset with Spark before deploying your cluster on the cloud. Instructions for setting up your Spark cluster is included in the last lesson of the Extracurricular Spark Course content.\n",
    "\n",
    "You can follow the steps below to guide your data analysis and model building portion of this project."
   ]
  },
  {
   "cell_type": "code",
   "execution_count": 1,
   "metadata": {},
   "outputs": [],
   "source": [
    "# import libraries\n",
    "from pyspark.sql import SparkSession\n",
    "from pyspark.sql.functions import col, lit, udf, isnan, count, when, desc, sort_array, asc, avg, lag, floor\n",
    "from pyspark.sql.types import IntegerType, DateType\n",
    "import matplotlib.pyplot as plt\n",
    "from pyspark.sql.window import Window\n",
    "from pyspark.sql.functions import sum as Fsum\n",
    "from pyspark.ml.feature import VectorAssembler\n",
    "from pyspark.ml.feature import MinMaxScaler \n",
    "from pyspark.sql.types import DoubleType\n",
    "from pyspark.ml.tuning import CrossValidator, ParamGridBuilder\n",
    "from pyspark.ml import Pipeline \n",
    "from pyspark.ml.classification import LogisticRegression, RandomForestClassifier, LinearSVC, GBTClassifier\n",
    "from pyspark.ml.evaluation import BinaryClassificationEvaluator\n",
    "from pyspark.mllib.evaluation import MulticlassMetrics\n",
    "from pyspark.sql.functions import avg\n",
    "from pyspark.sql.functions import max as Fmax\n",
    "import datetime"
   ]
  },
  {
   "cell_type": "code",
   "execution_count": 2,
   "metadata": {},
   "outputs": [],
   "source": [
    "# create a Spark session\n",
    "spark = SparkSession.builder \\\n",
    "    .master(\"local\") \\\n",
    "    .appName(\"Pablo's Session\") \\\n",
    "    .getOrCreate()"
   ]
  },
  {
   "cell_type": "markdown",
   "metadata": {},
   "source": [
    "# Load and Clean Dataset\n",
    "In this workspace, the mini-dataset file is `mini_sparkify_event_data.json`. Load and clean the dataset, checking for invalid or missing data - for example, records without userids or sessionids. "
   ]
  },
  {
   "cell_type": "code",
   "execution_count": 3,
   "metadata": {},
   "outputs": [
    {
     "name": "stdout",
     "output_type": "stream",
     "text": [
      "root\n",
      " |-- artist: string (nullable = true)\n",
      " |-- auth: string (nullable = true)\n",
      " |-- firstName: string (nullable = true)\n",
      " |-- gender: string (nullable = true)\n",
      " |-- itemInSession: long (nullable = true)\n",
      " |-- lastName: string (nullable = true)\n",
      " |-- length: double (nullable = true)\n",
      " |-- level: string (nullable = true)\n",
      " |-- location: string (nullable = true)\n",
      " |-- method: string (nullable = true)\n",
      " |-- page: string (nullable = true)\n",
      " |-- registration: long (nullable = true)\n",
      " |-- sessionId: long (nullable = true)\n",
      " |-- song: string (nullable = true)\n",
      " |-- status: long (nullable = true)\n",
      " |-- ts: long (nullable = true)\n",
      " |-- userAgent: string (nullable = true)\n",
      " |-- userId: string (nullable = true)\n",
      "\n"
     ]
    }
   ],
   "source": [
    "path = 'mini_sparkify_event_data.json'\n",
    "df = spark.read.json(path)\n",
    "# Print schema for data frame \n",
    "df.printSchema()"
   ]
  },
  {
   "cell_type": "code",
   "execution_count": 4,
   "metadata": {},
   "outputs": [
    {
     "data": {
      "text/plain": [
       "[Row(artist='Martha Tilston', auth='Logged In', firstName='Colin', gender='M', itemInSession=50, lastName='Freeman', length=277.89016, level='paid', location='Bakersfield, CA', method='PUT', page='NextSong', registration=1538173362000, sessionId=29, song='Rockpools', status=200, ts=1538352117000, userAgent='Mozilla/5.0 (Windows NT 6.1; WOW64; rv:31.0) Gecko/20100101 Firefox/31.0', userId='30'),\n",
       " Row(artist='Five Iron Frenzy', auth='Logged In', firstName='Micah', gender='M', itemInSession=79, lastName='Long', length=236.09424, level='free', location='Boston-Cambridge-Newton, MA-NH', method='PUT', page='NextSong', registration=1538331630000, sessionId=8, song='Canada', status=200, ts=1538352180000, userAgent='\"Mozilla/5.0 (Windows NT 6.1; WOW64) AppleWebKit/537.36 (KHTML, like Gecko) Chrome/37.0.2062.103 Safari/537.36\"', userId='9'),\n",
       " Row(artist='Adam Lambert', auth='Logged In', firstName='Colin', gender='M', itemInSession=51, lastName='Freeman', length=282.8273, level='paid', location='Bakersfield, CA', method='PUT', page='NextSong', registration=1538173362000, sessionId=29, song='Time For Miracles', status=200, ts=1538352394000, userAgent='Mozilla/5.0 (Windows NT 6.1; WOW64; rv:31.0) Gecko/20100101 Firefox/31.0', userId='30')]"
      ]
     },
     "execution_count": 4,
     "metadata": {},
     "output_type": "execute_result"
    }
   ],
   "source": [
    "#check of the data\n",
    "df.head(3)"
   ]
  },
  {
   "cell_type": "code",
   "execution_count": 5,
   "metadata": {},
   "outputs": [
    {
     "data": {
      "text/plain": [
       "286500"
      ]
     },
     "execution_count": 5,
     "metadata": {},
     "output_type": "execute_result"
    }
   ],
   "source": [
    "# gives number of non null row \n",
    "df.count() "
   ]
  },
  {
   "cell_type": "code",
   "execution_count": 6,
   "metadata": {},
   "outputs": [
    {
     "data": {
      "text/plain": [
       "18"
      ]
     },
     "execution_count": 6,
     "metadata": {},
     "output_type": "execute_result"
    }
   ],
   "source": [
    "# gives number of col count\n",
    "len(df.columns) "
   ]
  },
  {
   "cell_type": "code",
   "execution_count": 7,
   "metadata": {},
   "outputs": [
    {
     "name": "stdout",
     "output_type": "stream",
     "text": [
      "Empty session id: 0\n"
     ]
    }
   ],
   "source": [
    "#check if there are an null values in session id\n",
    "print(f\"Empty session id: {df.filter(df.sessionId == '').count()}\")"
   ]
  },
  {
   "cell_type": "code",
   "execution_count": 8,
   "metadata": {},
   "outputs": [
    {
     "name": "stdout",
     "output_type": "stream",
     "text": [
      "Empty user id: 8346\n"
     ]
    }
   ],
   "source": [
    "#check if there are an null in user id \n",
    "print(f\"Empty user id: {df.filter(df.userId == '').count()}\")"
   ]
  },
  {
   "cell_type": "code",
   "execution_count": 9,
   "metadata": {},
   "outputs": [],
   "source": [
    "# keep only the rows with no null in user Id \n",
    "df = df.where(df.userId != \"\")"
   ]
  },
  {
   "cell_type": "code",
   "execution_count": 10,
   "metadata": {},
   "outputs": [
    {
     "name": "stdout",
     "output_type": "stream",
     "text": [
      "Empty user id: 0\n"
     ]
    }
   ],
   "source": [
    "#check the null again\n",
    "print(f\"Empty user id: {df.filter(df.userId == '').count()}\")"
   ]
  },
  {
   "cell_type": "code",
   "execution_count": 11,
   "metadata": {},
   "outputs": [
    {
     "data": {
      "text/plain": [
       "278154"
      ]
     },
     "execution_count": 11,
     "metadata": {},
     "output_type": "execute_result"
    }
   ],
   "source": [
    "# gives number of non null row \n",
    "df.count() "
   ]
  },
  {
   "cell_type": "markdown",
   "metadata": {},
   "source": [
    "# Exploratory Data Analysis\n",
    "When you're working with the full dataset, perform EDA by loading a small subset of the data and doing basic manipulations within Spark. In this workspace, you are already provided a small subset of data you can explore.\n",
    "\n",
    "### Define Churn\n",
    "\n",
    "Once you've done some preliminary analysis, create a column `Churn` to use as the label for your model. I suggest using the `Cancellation Confirmation` events to define your churn, which happen for both paid and free users. As a bonus task, you can also look into the `Downgrade` events.\n",
    "\n",
    "### Explore Data\n",
    "Once you've defined churn, perform some exploratory data analysis to observe the behavior for users who stayed vs users who churned. You can start by exploring aggregates on these two groups of users, observing how much of a specific action they experienced per a certain time unit or number of songs played."
   ]
  },
  {
   "cell_type": "code",
   "execution_count": 12,
   "metadata": {},
   "outputs": [
    {
     "data": {
      "text/html": [
       "<div>\n",
       "<style scoped>\n",
       "    .dataframe tbody tr th:only-of-type {\n",
       "        vertical-align: middle;\n",
       "    }\n",
       "\n",
       "    .dataframe tbody tr th {\n",
       "        vertical-align: top;\n",
       "    }\n",
       "\n",
       "    .dataframe thead th {\n",
       "        text-align: right;\n",
       "    }\n",
       "</style>\n",
       "<table border=\"1\" class=\"dataframe\">\n",
       "  <thead>\n",
       "    <tr style=\"text-align: right;\">\n",
       "      <th></th>\n",
       "      <th>summary</th>\n",
       "      <th>artist</th>\n",
       "      <th>auth</th>\n",
       "      <th>firstName</th>\n",
       "      <th>gender</th>\n",
       "      <th>itemInSession</th>\n",
       "      <th>lastName</th>\n",
       "      <th>length</th>\n",
       "      <th>level</th>\n",
       "      <th>location</th>\n",
       "      <th>method</th>\n",
       "      <th>page</th>\n",
       "      <th>registration</th>\n",
       "      <th>sessionId</th>\n",
       "      <th>song</th>\n",
       "      <th>status</th>\n",
       "      <th>ts</th>\n",
       "      <th>userAgent</th>\n",
       "      <th>userId</th>\n",
       "    </tr>\n",
       "  </thead>\n",
       "  <tbody>\n",
       "    <tr>\n",
       "      <th>0</th>\n",
       "      <td>count</td>\n",
       "      <td>228108</td>\n",
       "      <td>278154</td>\n",
       "      <td>278154</td>\n",
       "      <td>278154</td>\n",
       "      <td>278154</td>\n",
       "      <td>278154</td>\n",
       "      <td>228108</td>\n",
       "      <td>278154</td>\n",
       "      <td>278154</td>\n",
       "      <td>278154</td>\n",
       "      <td>278154</td>\n",
       "      <td>278154</td>\n",
       "      <td>278154</td>\n",
       "      <td>228108</td>\n",
       "      <td>278154</td>\n",
       "      <td>278154</td>\n",
       "      <td>278154</td>\n",
       "      <td>278154</td>\n",
       "    </tr>\n",
       "    <tr>\n",
       "      <th>1</th>\n",
       "      <td>mean</td>\n",
       "      <td>551.0852017937219</td>\n",
       "      <td>None</td>\n",
       "      <td>None</td>\n",
       "      <td>None</td>\n",
       "      <td>114.89918174824018</td>\n",
       "      <td>None</td>\n",
       "      <td>249.1171819778458</td>\n",
       "      <td>None</td>\n",
       "      <td>None</td>\n",
       "      <td>None</td>\n",
       "      <td>None</td>\n",
       "      <td>1.5353588340844272E12</td>\n",
       "      <td>1042.5616241362698</td>\n",
       "      <td>Infinity</td>\n",
       "      <td>209.10321620397335</td>\n",
       "      <td>1.5409589154318713E12</td>\n",
       "      <td>None</td>\n",
       "      <td>59682.02278593872</td>\n",
       "    </tr>\n",
       "    <tr>\n",
       "      <th>2</th>\n",
       "      <td>stddev</td>\n",
       "      <td>1217.7693079161374</td>\n",
       "      <td>None</td>\n",
       "      <td>None</td>\n",
       "      <td>None</td>\n",
       "      <td>129.851729399489</td>\n",
       "      <td>None</td>\n",
       "      <td>99.23517921058361</td>\n",
       "      <td>None</td>\n",
       "      <td>None</td>\n",
       "      <td>None</td>\n",
       "      <td>None</td>\n",
       "      <td>3.291321616327586E9</td>\n",
       "      <td>726.5010362219813</td>\n",
       "      <td>NaN</td>\n",
       "      <td>30.151388851328214</td>\n",
       "      <td>1.5068287123306298E9</td>\n",
       "      <td>None</td>\n",
       "      <td>109091.9499991047</td>\n",
       "    </tr>\n",
       "    <tr>\n",
       "      <th>3</th>\n",
       "      <td>min</td>\n",
       "      <td>!!!</td>\n",
       "      <td>Cancelled</td>\n",
       "      <td>Adelaida</td>\n",
       "      <td>F</td>\n",
       "      <td>0</td>\n",
       "      <td>Adams</td>\n",
       "      <td>0.78322</td>\n",
       "      <td>free</td>\n",
       "      <td>Albany, OR</td>\n",
       "      <td>GET</td>\n",
       "      <td>About</td>\n",
       "      <td>1521380675000</td>\n",
       "      <td>1</td>\n",
       "      <td>ÃÂg ÃÂtti GrÃÂ¡a ÃÂsku</td>\n",
       "      <td>200</td>\n",
       "      <td>1538352117000</td>\n",
       "      <td>\"Mozilla/5.0 (Macintosh; Intel Mac OS X 10_10)...</td>\n",
       "      <td>10</td>\n",
       "    </tr>\n",
       "    <tr>\n",
       "      <th>4</th>\n",
       "      <td>max</td>\n",
       "      <td>ÃÂlafur Arnalds</td>\n",
       "      <td>Logged In</td>\n",
       "      <td>Zyonna</td>\n",
       "      <td>M</td>\n",
       "      <td>1321</td>\n",
       "      <td>Wright</td>\n",
       "      <td>3024.66567</td>\n",
       "      <td>paid</td>\n",
       "      <td>Winston-Salem, NC</td>\n",
       "      <td>PUT</td>\n",
       "      <td>Upgrade</td>\n",
       "      <td>1543247354000</td>\n",
       "      <td>2474</td>\n",
       "      <td>ÃÂau hafa sloppiÃÂ° undan ÃÂ¾unga myrkursins</td>\n",
       "      <td>404</td>\n",
       "      <td>1543799476000</td>\n",
       "      <td>Mozilla/5.0 (compatible; MSIE 9.0; Windows NT ...</td>\n",
       "      <td>99</td>\n",
       "    </tr>\n",
       "  </tbody>\n",
       "</table>\n",
       "</div>"
      ],
      "text/plain": [
       "  summary              artist       auth firstName  gender  \\\n",
       "0   count              228108     278154    278154  278154   \n",
       "1    mean   551.0852017937219       None      None    None   \n",
       "2  stddev  1217.7693079161374       None      None    None   \n",
       "3     min                 !!!  Cancelled  Adelaida       F   \n",
       "4     max   ÃÂlafur Arnalds  Logged In    Zyonna       M   \n",
       "\n",
       "        itemInSession lastName             length   level           location  \\\n",
       "0              278154   278154             228108  278154             278154   \n",
       "1  114.89918174824018     None  249.1171819778458    None               None   \n",
       "2    129.851729399489     None  99.23517921058361    None               None   \n",
       "3                   0    Adams            0.78322    free         Albany, OR   \n",
       "4                1321   Wright         3024.66567    paid  Winston-Salem, NC   \n",
       "\n",
       "   method     page           registration           sessionId  \\\n",
       "0  278154   278154                 278154              278154   \n",
       "1    None     None  1.5353588340844272E12  1042.5616241362698   \n",
       "2    None     None    3.291321616327586E9   726.5010362219813   \n",
       "3     GET    About          1521380675000                   1   \n",
       "4     PUT  Upgrade          1543247354000                2474   \n",
       "\n",
       "                                               song              status  \\\n",
       "0                                            228108              278154   \n",
       "1                                          Infinity  209.10321620397335   \n",
       "2                                               NaN  30.151388851328214   \n",
       "3                    \n",
       "ÃÂg ÃÂtti GrÃÂ¡a ÃÂsku                 200   \n",
       "4  ÃÂau hafa sloppiÃÂ° undan ÃÂ¾unga myrkursins                 404   \n",
       "\n",
       "                      ts                                          userAgent  \\\n",
       "0                 278154                                             278154   \n",
       "1  1.5409589154318713E12                                               None   \n",
       "2   1.5068287123306298E9                                               None   \n",
       "3          1538352117000  \"Mozilla/5.0 (Macintosh; Intel Mac OS X 10_10)...   \n",
       "4          1543799476000  Mozilla/5.0 (compatible; MSIE 9.0; Windows NT ...   \n",
       "\n",
       "              userId  \n",
       "0             278154  \n",
       "1  59682.02278593872  \n",
       "2  109091.9499991047  \n",
       "3                 10  \n",
       "4                 99  "
      ]
     },
     "execution_count": 12,
     "metadata": {},
     "output_type": "execute_result"
    }
   ],
   "source": [
    "# Describe statistics of the df\n",
    "df.describe().toPandas()"
   ]
  },
  {
   "cell_type": "code",
   "execution_count": 13,
   "metadata": {},
   "outputs": [
    {
     "data": {
      "text/plain": [
       "225"
      ]
     },
     "execution_count": 13,
     "metadata": {},
     "output_type": "execute_result"
    }
   ],
   "source": [
    "#check how many  user id\n",
    "df.select(\"userId\").dropDuplicates().count()"
   ]
  },
  {
   "cell_type": "code",
   "execution_count": 14,
   "metadata": {},
   "outputs": [
    {
     "name": "stdout",
     "output_type": "stream",
     "text": [
      "+------+-----+\n",
      "|userId|count|\n",
      "+------+-----+\n",
      "|    39| 9632|\n",
      "|    92| 7230|\n",
      "|   140| 6880|\n",
      "|300011| 5732|\n",
      "|   124| 4825|\n",
      "|300021| 4659|\n",
      "|300017| 4428|\n",
      "|    85| 4370|\n",
      "|    42| 4257|\n",
      "|200023| 3769|\n",
      "|     6| 3761|\n",
      "|    29| 3603|\n",
      "|    54| 3437|\n",
      "|   100| 3214|\n",
      "|     9| 3191|\n",
      "|   126| 3102|\n",
      "|300015| 3051|\n",
      "|    91| 3014|\n",
      "|    98| 2891|\n",
      "|    74| 2887|\n",
      "+------+-----+\n",
      "only showing top 20 rows\n",
      "\n"
     ]
    }
   ],
   "source": [
    "# check the top sessions count of each user id\n",
    "df.select('userId').groupBy('userId').count().sort('count', ascending = False).show()"
   ]
  },
  {
   "cell_type": "code",
   "execution_count": 15,
   "metadata": {},
   "outputs": [
    {
     "name": "stdout",
     "output_type": "stream",
     "text": [
      "+--------------------+\n",
      "|                page|\n",
      "+--------------------+\n",
      "|              Cancel|\n",
      "|    Submit Downgrade|\n",
      "|         Thumbs Down|\n",
      "|                Home|\n",
      "|           Downgrade|\n",
      "|         Roll Advert|\n",
      "|              Logout|\n",
      "|       Save Settings|\n",
      "|Cancellation Conf...|\n",
      "|               About|\n",
      "|            Settings|\n",
      "|     Add to Playlist|\n",
      "|          Add Friend|\n",
      "|            NextSong|\n",
      "|           Thumbs Up|\n",
      "|                Help|\n",
      "|             Upgrade|\n",
      "|               Error|\n",
      "|      Submit Upgrade|\n",
      "+--------------------+\n",
      "\n"
     ]
    }
   ],
   "source": [
    "# check the pages values\n",
    "df.select('page').dropDuplicates().show()"
   ]
  },
  {
   "cell_type": "code",
   "execution_count": 16,
   "metadata": {},
   "outputs": [
    {
     "name": "stdout",
     "output_type": "stream",
     "text": [
      "+------+\n",
      "|gender|\n",
      "+------+\n",
      "|     F|\n",
      "|     M|\n",
      "+------+\n",
      "\n"
     ]
    }
   ],
   "source": [
    "# check the pages values\n",
    "df.select('gender').dropDuplicates().show()"
   ]
  },
  {
   "cell_type": "code",
   "execution_count": 17,
   "metadata": {},
   "outputs": [
    {
     "name": "stdout",
     "output_type": "stream",
     "text": [
      "+---------+\n",
      "|     auth|\n",
      "+---------+\n",
      "|Cancelled|\n",
      "|Logged In|\n",
      "+---------+\n",
      "\n"
     ]
    }
   ],
   "source": [
    "# check the auth values\n",
    "df.select('auth').dropDuplicates().show()"
   ]
  },
  {
   "cell_type": "code",
   "execution_count": 18,
   "metadata": {},
   "outputs": [
    {
     "name": "stdout",
     "output_type": "stream",
     "text": [
      "+--------------------+\n",
      "|            location|\n",
      "+--------------------+\n",
      "|     Gainesville, FL|\n",
      "|Atlantic City-Ham...|\n",
      "|Deltona-Daytona B...|\n",
      "|San Diego-Carlsba...|\n",
      "|Cleveland-Elyria, OH|\n",
      "|Kingsport-Bristol...|\n",
      "|New Haven-Milford...|\n",
      "|Birmingham-Hoover...|\n",
      "|  Corpus Christi, TX|\n",
      "|         Dubuque, IA|\n",
      "|Las Vegas-Henders...|\n",
      "|Indianapolis-Carm...|\n",
      "|Seattle-Tacoma-Be...|\n",
      "|          Albany, OR|\n",
      "|   Winston-Salem, NC|\n",
      "|     Bakersfield, CA|\n",
      "|Los Angeles-Long ...|\n",
      "|Minneapolis-St. P...|\n",
      "|San Francisco-Oak...|\n",
      "|Phoenix-Mesa-Scot...|\n",
      "+--------------------+\n",
      "only showing top 20 rows\n",
      "\n"
     ]
    }
   ],
   "source": [
    "# check the location values\n",
    "df.select('location').dropDuplicates().show()"
   ]
  },
  {
   "cell_type": "code",
   "execution_count": 19,
   "metadata": {},
   "outputs": [
    {
     "name": "stdout",
     "output_type": "stream",
     "text": [
      "+--------------------+------+\n",
      "|                page| count|\n",
      "+--------------------+------+\n",
      "|            NextSong|228108|\n",
      "|           Thumbs Up| 12551|\n",
      "|                Home| 10082|\n",
      "|     Add to Playlist|  6526|\n",
      "|          Add Friend|  4277|\n",
      "|         Roll Advert|  3933|\n",
      "|              Logout|  3226|\n",
      "|         Thumbs Down|  2546|\n",
      "|           Downgrade|  2055|\n",
      "|            Settings|  1514|\n",
      "|                Help|  1454|\n",
      "|             Upgrade|   499|\n",
      "|               About|   495|\n",
      "|       Save Settings|   310|\n",
      "|               Error|   252|\n",
      "|      Submit Upgrade|   159|\n",
      "|    Submit Downgrade|    63|\n",
      "|              Cancel|    52|\n",
      "|Cancellation Conf...|    52|\n",
      "+--------------------+------+\n",
      "\n"
     ]
    }
   ],
   "source": [
    "# check the sessions count of each pages\n",
    "df.select('page').groupBy('page').count().sort('count', ascending = False).show()"
   ]
  },
  {
   "cell_type": "code",
   "execution_count": 20,
   "metadata": {},
   "outputs": [],
   "source": [
    "def set_churn_field(df, churn_event):\n",
    "    \"\"\"\n",
    "        Adds a field column to the dataframe using the churn state. flag is 0 or 1.\n",
    "        This function can be used to create two types of field: Cancellation churn (i.e a user\n",
    "        leaves the service) or downgrade churn (i.e. the user downgrade the subscription\n",
    "        from paid to free)\n",
    "        \n",
    "        Input:\n",
    "            df - the dataframe to use\n",
    "            churn_event - whether we want to add labels for Cancellation churn or downgrade churn\n",
    "        Output:\n",
    "            df_churn - the input dataframe with an additional label column\n",
    "    \"\"\"\n",
    "    \n",
    "    if churn_event == 'Submit Downgrade':\n",
    "        flag_col_name = \"downgraded\"\n",
    "        phase_col_name = \"phase_downgrade\"\n",
    "        label_col_name = \"churn_paid\"\n",
    "    elif churn_event == 'Cancellation Confirmation':\n",
    "        flag_col_name = \"cancelled\"\n",
    "        phase_col_name = \"phase_cancel\"\n",
    "        label_col_name = \"churn_cancelled\"\n",
    "    \n",
    "    # we create a flag for the special event\n",
    "    flag_event = udf(lambda x: 1 if x == churn_event else 0, IntegerType())\n",
    "    \n",
    "    # we create a new column with the value of the flag\n",
    "    df_event = df.withColumn(flag_col_name, flag_event(\"page\"))\n",
    "    \n",
    "    # create a phase column to distinguish the change of status\n",
    "    windowval = Window.partitionBy(\"userId\").orderBy(desc(\"ts\")).rangeBetween(Window.unboundedPreceding, 0)\n",
    "    df_phase = df_event.withColumn(phase_col_name, Fsum(flag_col_name).over(windowval))\n",
    "    \n",
    "    #add a churn label to each user\n",
    "    df= df_phase.withColumn(label_col_name, Fmax(flag_col_name).over(Window.partitionBy(\"userId\")))\n",
    "    \n",
    "    return df\n"
   ]
  },
  {
   "cell_type": "code",
   "execution_count": 21,
   "metadata": {},
   "outputs": [],
   "source": [
    "# set churn for both (Cancellation Confirmation) and (Submit Downgrade)\n",
    "df = set_churn_field(df, 'Submit Downgrade')\n",
    "df =  set_churn_field(df, 'Cancellation Confirmation')"
   ]
  },
  {
   "cell_type": "code",
   "execution_count": 22,
   "metadata": {},
   "outputs": [
    {
     "name": "stdout",
     "output_type": "stream",
     "text": [
      "+------+-----+---------------+---------+------------+---------------+----------+---------------+----------+\n",
      "|userId|level|           page|cancelled|phase_cancel|churn_cancelled|downgraded|phase_downgrade|churn_paid|\n",
      "+------+-----+---------------+---------+------------+---------------+----------+---------------+----------+\n",
      "|    10| paid|      Downgrade|        0|           0|              0|         0|              0|         0|\n",
      "|    10| paid|       NextSong|        0|           0|              0|         0|              0|         0|\n",
      "|    10| paid|           Home|        0|           0|              0|         0|              0|         0|\n",
      "|    10| paid|         Logout|        0|           0|              0|         0|              0|         0|\n",
      "|    10| paid|Add to Playlist|        0|           0|              0|         0|              0|         0|\n",
      "|    10| paid|      Thumbs Up|        0|           0|              0|         0|              0|         0|\n",
      "|    10| paid|     Add Friend|        0|           0|              0|         0|              0|         0|\n",
      "|    10| paid|       Settings|        0|           0|              0|         0|              0|         0|\n",
      "|    10| paid|    Roll Advert|        0|           0|              0|         0|              0|         0|\n",
      "|    10| paid|  Save Settings|        0|           0|              0|         0|              0|         0|\n",
      "|    10| paid|           Help|        0|           0|              0|         0|              0|         0|\n",
      "|    10| paid|          About|        0|           0|              0|         0|              0|         0|\n",
      "|    10| paid|    Thumbs Down|        0|           0|              0|         0|              0|         0|\n",
      "|   100| paid|           Home|        0|           0|              0|         0|              0|         1|\n",
      "|   100| paid|       NextSong|        0|           0|              0|         0|              0|         1|\n",
      "|   100| paid|      Thumbs Up|        0|           0|              0|         0|              0|         1|\n",
      "|   100| paid|           Help|        0|           0|              0|         0|              0|         1|\n",
      "|   100| paid|         Logout|        0|           0|              0|         0|              0|         1|\n",
      "|   100| paid|      Downgrade|        0|           0|              0|         0|              0|         1|\n",
      "|   100| paid|     Add Friend|        0|           0|              0|         0|              0|         1|\n",
      "|   100| paid|    Thumbs Down|        0|           0|              0|         0|              0|         1|\n",
      "|   100| paid|    Roll Advert|        0|           0|              0|         0|              0|         1|\n",
      "|   100| paid|       Settings|        0|           0|              0|         0|              0|         1|\n",
      "|   100| paid|Add to Playlist|        0|           0|              0|         0|              0|         1|\n",
      "|   100| paid|          About|        0|           0|              0|         0|              0|         1|\n",
      "|   100| paid|          Error|        0|           0|              0|         0|              0|         1|\n",
      "|   100| free| Submit Upgrade|        0|           0|              0|         0|              0|         1|\n",
      "|   100| free|        Upgrade|        0|           0|              0|         0|              0|         1|\n",
      "|   100| free|       NextSong|        0|           0|              0|         0|              0|         1|\n",
      "|   100| free|Add to Playlist|        0|           0|              0|         0|              0|         1|\n",
      "+------+-----+---------------+---------+------------+---------------+----------+---------------+----------+\n",
      "only showing top 30 rows\n",
      "\n"
     ]
    }
   ],
   "source": [
    "#display new dataframe\n",
    "df.select(['userId', 'level' ,'page', 'cancelled', 'phase_cancel', 'churn_cancelled', 'downgraded', 'phase_downgrade', 'churn_paid']).orderBy(['userId']).dropDuplicates().show(30)"
   ]
  },
  {
   "cell_type": "code",
   "execution_count": 23,
   "metadata": {},
   "outputs": [
    {
     "data": {
      "text/html": [
       "<div>\n",
       "<style scoped>\n",
       "    .dataframe tbody tr th:only-of-type {\n",
       "        vertical-align: middle;\n",
       "    }\n",
       "\n",
       "    .dataframe tbody tr th {\n",
       "        vertical-align: top;\n",
       "    }\n",
       "\n",
       "    .dataframe thead th {\n",
       "        text-align: right;\n",
       "    }\n",
       "</style>\n",
       "<table border=\"1\" class=\"dataframe\">\n",
       "  <thead>\n",
       "    <tr style=\"text-align: right;\">\n",
       "      <th></th>\n",
       "      <th>summary</th>\n",
       "      <th>artist</th>\n",
       "      <th>auth</th>\n",
       "      <th>firstName</th>\n",
       "      <th>gender</th>\n",
       "      <th>itemInSession</th>\n",
       "      <th>lastName</th>\n",
       "      <th>length</th>\n",
       "      <th>level</th>\n",
       "      <th>location</th>\n",
       "      <th>...</th>\n",
       "      <th>status</th>\n",
       "      <th>ts</th>\n",
       "      <th>userAgent</th>\n",
       "      <th>userId</th>\n",
       "      <th>downgraded</th>\n",
       "      <th>phase_downgrade</th>\n",
       "      <th>churn_paid</th>\n",
       "      <th>cancelled</th>\n",
       "      <th>phase_cancel</th>\n",
       "      <th>churn_cancelled</th>\n",
       "    </tr>\n",
       "  </thead>\n",
       "  <tbody>\n",
       "    <tr>\n",
       "      <th>0</th>\n",
       "      <td>count</td>\n",
       "      <td>228108</td>\n",
       "      <td>278154</td>\n",
       "      <td>278154</td>\n",
       "      <td>278154</td>\n",
       "      <td>278154</td>\n",
       "      <td>278154</td>\n",
       "      <td>228108</td>\n",
       "      <td>278154</td>\n",
       "      <td>278154</td>\n",
       "      <td>...</td>\n",
       "      <td>278154</td>\n",
       "      <td>278154</td>\n",
       "      <td>278154</td>\n",
       "      <td>278154</td>\n",
       "      <td>278154</td>\n",
       "      <td>278154</td>\n",
       "      <td>278154</td>\n",
       "      <td>278154</td>\n",
       "      <td>278154</td>\n",
       "      <td>278154</td>\n",
       "    </tr>\n",
       "    <tr>\n",
       "      <th>1</th>\n",
       "      <td>mean</td>\n",
       "      <td>551.0852017937219</td>\n",
       "      <td>None</td>\n",
       "      <td>None</td>\n",
       "      <td>None</td>\n",
       "      <td>114.89918174824018</td>\n",
       "      <td>None</td>\n",
       "      <td>249.11718197783495</td>\n",
       "      <td>None</td>\n",
       "      <td>None</td>\n",
       "      <td>...</td>\n",
       "      <td>209.10321620397335</td>\n",
       "      <td>1.5409589154318582E12</td>\n",
       "      <td>None</td>\n",
       "      <td>59682.02278593872</td>\n",
       "      <td>2.2649323755905002E-4</td>\n",
       "      <td>0.30953356773585855</td>\n",
       "      <td>0.38342788527218735</td>\n",
       "      <td>1.869467992550889E-4</td>\n",
       "      <td>0.16129194618808287</td>\n",
       "      <td>0.16129194618808287</td>\n",
       "    </tr>\n",
       "    <tr>\n",
       "      <th>2</th>\n",
       "      <td>stddev</td>\n",
       "      <td>1217.7693079161377</td>\n",
       "      <td>None</td>\n",
       "      <td>None</td>\n",
       "      <td>None</td>\n",
       "      <td>129.85172939949013</td>\n",
       "      <td>None</td>\n",
       "      <td>99.23517921058327</td>\n",
       "      <td>None</td>\n",
       "      <td>None</td>\n",
       "      <td>...</td>\n",
       "      <td>30.151388851327837</td>\n",
       "      <td>1.5068287123362646E9</td>\n",
       "      <td>None</td>\n",
       "      <td>109091.94999910559</td>\n",
       "      <td>0.015048014901098866</td>\n",
       "      <td>0.6575122986359151</td>\n",
       "      <td>0.48622195754530645</td>\n",
       "      <td>0.013671595449116164</td>\n",
       "      <td>0.36780068056308857</td>\n",
       "      <td>0.36780068056308857</td>\n",
       "    </tr>\n",
       "    <tr>\n",
       "      <th>3</th>\n",
       "      <td>min</td>\n",
       "      <td>!!!</td>\n",
       "      <td>Cancelled</td>\n",
       "      <td>Adelaida</td>\n",
       "      <td>F</td>\n",
       "      <td>0</td>\n",
       "      <td>Adams</td>\n",
       "      <td>0.78322</td>\n",
       "      <td>free</td>\n",
       "      <td>Albany, OR</td>\n",
       "      <td>...</td>\n",
       "      <td>200</td>\n",
       "      <td>1538352117000</td>\n",
       "      <td>\"Mozilla/5.0 (Macintosh; Intel Mac OS X 10_10)...</td>\n",
       "      <td>10</td>\n",
       "      <td>0</td>\n",
       "      <td>0</td>\n",
       "      <td>0</td>\n",
       "      <td>0</td>\n",
       "      <td>0</td>\n",
       "      <td>0</td>\n",
       "    </tr>\n",
       "    <tr>\n",
       "      <th>4</th>\n",
       "      <td>max</td>\n",
       "      <td>ÃÂlafur Arnalds</td>\n",
       "      <td>Logged In</td>\n",
       "      <td>Zyonna</td>\n",
       "      <td>M</td>\n",
       "      <td>1321</td>\n",
       "      <td>Wright</td>\n",
       "      <td>3024.66567</td>\n",
       "      <td>paid</td>\n",
       "      <td>Winston-Salem, NC</td>\n",
       "      <td>...</td>\n",
       "      <td>404</td>\n",
       "      <td>1543799476000</td>\n",
       "      <td>Mozilla/5.0 (compatible; MSIE 9.0; Windows NT ...</td>\n",
       "      <td>99</td>\n",
       "      <td>1</td>\n",
       "      <td>3</td>\n",
       "      <td>1</td>\n",
       "      <td>1</td>\n",
       "      <td>1</td>\n",
       "      <td>1</td>\n",
       "    </tr>\n",
       "  </tbody>\n",
       "</table>\n",
       "<p>5 rows × 25 columns</p>\n",
       "</div>"
      ],
      "text/plain": [
       "  summary              artist       auth firstName  gender  \\\n",
       "0   count              228108     278154    278154  278154   \n",
       "1    mean   551.0852017937219       None      None    None   \n",
       "2  stddev  1217.7693079161377       None      None    None   \n",
       "3     min                 !!!  Cancelled  Adelaida       F   \n",
       "4     max   ÃÂlafur Arnalds  Logged In    Zyonna       M   \n",
       "\n",
       "        itemInSession lastName              length   level           location  \\\n",
       "0              278154   278154              228108  278154             278154   \n",
       "1  114.89918174824018     None  249.11718197783495    None               None   \n",
       "2  129.85172939949013     None   99.23517921058327    None               None   \n",
       "3                   0    Adams             0.78322    free         Albany, OR   \n",
       "4                1321   Wright          3024.66567    paid  Winston-Salem, NC   \n",
       "\n",
       "          ...                       status                     ts  \\\n",
       "0         ...                       278154                 278154   \n",
       "1         ...           209.10321620397335  1.5409589154318582E12   \n",
       "2         ...           30.151388851327837   1.5068287123362646E9   \n",
       "3         ...                          200          1538352117000   \n",
       "4         ...                          404          1543799476000   \n",
       "\n",
       "                                           userAgent              userId  \\\n",
       "0                                             278154              278154   \n",
       "1                                               None   59682.02278593872   \n",
       "2                                               None  109091.94999910559   \n",
       "3  \"Mozilla/5.0 (Macintosh; Intel Mac OS X 10_10)...                  10   \n",
       "4  Mozilla/5.0 (compatible; MSIE 9.0; Windows NT ...                  99   \n",
       "\n",
       "              downgraded      phase_downgrade           churn_paid  \\\n",
       "0                 278154               278154               278154   \n",
       "1  2.2649323755905002E-4  0.30953356773585855  0.38342788527218735   \n",
       "2   0.015048014901098866   0.6575122986359151  0.48622195754530645   \n",
       "3                      0                    0                    0   \n",
       "4                      1                    3                    1   \n",
       "\n",
       "              cancelled         phase_cancel      churn_cancelled  \n",
       "0                278154               278154               278154  \n",
       "1  1.869467992550889E-4  0.16129194618808287  0.16129194618808287  \n",
       "2  0.013671595449116164  0.36780068056308857  0.36780068056308857  \n",
       "3                     0                    0                    0  \n",
       "4                     1                    1                    1  \n",
       "\n",
       "[5 rows x 25 columns]"
      ]
     },
     "execution_count": 23,
     "metadata": {},
     "output_type": "execute_result"
    }
   ],
   "source": [
    "#check the new colomn\n",
    "df.describe().toPandas()"
   ]
  },
  {
   "cell_type": "markdown",
   "metadata": {},
   "source": [
    "## Explore Data\n",
    " \n",
    "Checking the total users  and how many user did cancel the service, and how many did downgrade."
   ]
  },
  {
   "cell_type": "code",
   "execution_count": 24,
   "metadata": {},
   "outputs": [
    {
     "data": {
      "text/plain": [
       "225"
      ]
     },
     "execution_count": 24,
     "metadata": {},
     "output_type": "execute_result"
    }
   ],
   "source": [
    "# check the number of all users \n",
    "df.select(\"userId\").dropDuplicates().count()"
   ]
  },
  {
   "cell_type": "code",
   "execution_count": 25,
   "metadata": {},
   "outputs": [
    {
     "name": "stdout",
     "output_type": "stream",
     "text": [
      "52 Users unsubscribed from the service\n",
      "23.11% unsubscribed: \n"
     ]
    }
   ],
   "source": [
    "#check the user cancel the service\n",
    "churn_cancelled = df.select('userId').where(df['churn_cancelled']==1).dropDuplicates().count()\n",
    "print('{} Users unsubscribed from the service'.format(churn_cancelled))\n",
    "print('{:.2f}% unsubscribed: '.format(churn_cancelled/df.select(\"userId\").dropDuplicates().count()*100))"
   ]
  },
  {
   "cell_type": "code",
   "execution_count": 26,
   "metadata": {},
   "outputs": [
    {
     "name": "stdout",
     "output_type": "stream",
     "text": [
      "49 Users downgraded from paid to free service \n",
      "21.78% downgraded: \n"
     ]
    }
   ],
   "source": [
    "#check the user downgraded\n",
    "churn_paid = df.select('userId').where(df['churn_paid']==1).dropDuplicates().count()\n",
    "print('{} Users downgraded from paid to free service '.format(churn_paid))\n",
    "print('{:.2f}% downgraded: '.format(churn_paid/df.select(\"userId\").dropDuplicates().count()*100))"
   ]
  },
  {
   "cell_type": "code",
   "execution_count": 27,
   "metadata": {},
   "outputs": [
    {
     "name": "stdout",
     "output_type": "stream",
     "text": [
      "Users downgraded from paid to free, and then cancelled the service:\n",
      "+------+\n",
      "|userId|\n",
      "+------+\n",
      "|    54|\n",
      "|100025|\n",
      "|100009|\n",
      "|100015|\n",
      "|   103|\n",
      "|100012|\n",
      "|200020|\n",
      "|200011|\n",
      "|    12|\n",
      "+------+\n",
      "\n"
     ]
    }
   ],
   "source": [
    "print('Users downgraded from paid to free, and then cancelled the service:')\n",
    "df.select('userId').where((df['churn_paid']==1)&(df['churn_cancelled']==1)).dropDuplicates().show()"
   ]
  },
  {
   "cell_type": "code",
   "execution_count": 28,
   "metadata": {},
   "outputs": [
    {
     "name": "stdout",
     "output_type": "stream",
     "text": [
      "+------+-----+--------------------+\n",
      "|userId|level|                page|\n",
      "+------+-----+--------------------+\n",
      "|100025| free|Cancellation Conf...|\n",
      "|100025| free|              Cancel|\n",
      "|100025| free|         Roll Advert|\n",
      "|100025| free|            NextSong|\n",
      "|100025| free|            NextSong|\n",
      "|100025| free|            NextSong|\n",
      "|100025| free|         Thumbs Down|\n",
      "|100025| free|            NextSong|\n",
      "|100025| free|            NextSong|\n",
      "|100025| free|         Roll Advert|\n",
      "|100025| free|            NextSong|\n",
      "|100025| free|            NextSong|\n",
      "|100025| free|            NextSong|\n",
      "|100025| free|            NextSong|\n",
      "|100025| free|            NextSong|\n",
      "|100025| free|            NextSong|\n",
      "|100025| free|            NextSong|\n",
      "|100025| free|            NextSong|\n",
      "|100025| free|            NextSong|\n",
      "|100025| free|            NextSong|\n",
      "|100025| free|         Roll Advert|\n",
      "|100025| free|         Roll Advert|\n",
      "|100025| free|            NextSong|\n",
      "|100025| free|            NextSong|\n",
      "|100025| free|            NextSong|\n",
      "|100025| free|            NextSong|\n",
      "|100025| free|            NextSong|\n",
      "|100025| free|            NextSong|\n",
      "|100025| free|            NextSong|\n",
      "|100025| free|            NextSong|\n",
      "|100025| free|            NextSong|\n",
      "|100025| free|            NextSong|\n",
      "|100025| free|            NextSong|\n",
      "|100025| free|            NextSong|\n",
      "|100025| free|            NextSong|\n",
      "|100025| free|            NextSong|\n",
      "|100025| free|            NextSong|\n",
      "|100025| free|            NextSong|\n",
      "|100025| free|         Roll Advert|\n",
      "|100025| free|            NextSong|\n",
      "|100025| free|            NextSong|\n",
      "|100025| free|            NextSong|\n",
      "|100025| free|            NextSong|\n",
      "|100025| free|            NextSong|\n",
      "|100025| free|            NextSong|\n",
      "|100025| free|         Roll Advert|\n",
      "|100025| free|            NextSong|\n",
      "|100025| free|                Home|\n",
      "|100025| free|              Logout|\n",
      "|100025| free|                Help|\n",
      "|100025| free|            NextSong|\n",
      "|100025| free|            NextSong|\n",
      "|100025| free|            NextSong|\n",
      "|100025| free|            NextSong|\n",
      "|100025| free|            NextSong|\n",
      "|100025| free|            NextSong|\n",
      "|100025| free|            NextSong|\n",
      "|100025| free|                Home|\n",
      "|100025| free|              Logout|\n",
      "|100025| free|            NextSong|\n",
      "|100025| free|            NextSong|\n",
      "|100025| free|            NextSong|\n",
      "|100025| free|                Home|\n",
      "|100025| free|              Logout|\n",
      "|100025| free|            NextSong|\n",
      "|100025| free|                Home|\n",
      "|100025| free|             Upgrade|\n",
      "|100025| free|     Add to Playlist|\n",
      "|100025| free|            NextSong|\n",
      "|100025| free|            NextSong|\n",
      "|100025| free|            NextSong|\n",
      "|100025| free|         Thumbs Down|\n",
      "|100025| free|            NextSong|\n",
      "|100025| free|            NextSong|\n",
      "|100025| free|            NextSong|\n",
      "|100025| free|         Roll Advert|\n",
      "|100025| free|            NextSong|\n",
      "|100025| free|            NextSong|\n",
      "|100025| free|            NextSong|\n",
      "|100025| free|            NextSong|\n",
      "|100025| free|            NextSong|\n",
      "|100025| free|         Roll Advert|\n",
      "|100025| free|            NextSong|\n",
      "|100025| free|            NextSong|\n",
      "|100025| free|            NextSong|\n",
      "|100025| free|     Add to Playlist|\n",
      "|100025| free|            NextSong|\n",
      "|100025| free|                Home|\n",
      "|100025| free|            NextSong|\n",
      "|100025| free|            NextSong|\n",
      "|100025| free|     Add to Playlist|\n",
      "|100025| free|            NextSong|\n",
      "|100025| free|            NextSong|\n",
      "|100025| free|                Home|\n",
      "|100025| free|          Add Friend|\n",
      "|100025| free|                Home|\n",
      "|100025| free|              Logout|\n",
      "|100025| free|            NextSong|\n",
      "|100025| free|           Thumbs Up|\n",
      "|100025| free|            NextSong|\n",
      "|100025| free|         Roll Advert|\n",
      "|100025| free|            NextSong|\n",
      "|100025| free|            NextSong|\n",
      "|100025| free|            NextSong|\n",
      "|100025| free|            NextSong|\n",
      "|100025| free|            NextSong|\n",
      "|100025| free|            NextSong|\n",
      "|100025| free|            NextSong|\n",
      "|100025| free|         Roll Advert|\n",
      "|100025| free|            NextSong|\n",
      "|100025| free|            NextSong|\n",
      "|100025| free|         Roll Advert|\n",
      "|100025| free|            NextSong|\n",
      "|100025| free|         Roll Advert|\n",
      "|100025| free|            NextSong|\n",
      "|100025| free|            NextSong|\n",
      "|100025| free|            NextSong|\n",
      "|100025| free|            NextSong|\n",
      "|100025| free|         Roll Advert|\n",
      "|100025| free|            NextSong|\n",
      "|100025| free|         Thumbs Down|\n",
      "|100025| free|            NextSong|\n",
      "|100025| free|         Thumbs Down|\n",
      "|100025| free|            NextSong|\n",
      "|100025| free|         Roll Advert|\n",
      "|100025| free|            NextSong|\n",
      "|100025| free|            NextSong|\n",
      "|100025| free|         Roll Advert|\n",
      "|100025| free|            NextSong|\n",
      "|100025| free|            NextSong|\n",
      "|100025| free|            NextSong|\n",
      "|100025| free|            NextSong|\n",
      "|100025| free|            NextSong|\n",
      "|100025| free|           Thumbs Up|\n",
      "|100025| free|            NextSong|\n",
      "|100025| free|            NextSong|\n",
      "|100025| free|            NextSong|\n",
      "|100025| free|            NextSong|\n",
      "|100025| free|            NextSong|\n",
      "|100025| free|           Thumbs Up|\n",
      "|100025| free|            NextSong|\n",
      "|100025| free|            NextSong|\n",
      "|100025| free|            NextSong|\n",
      "|100025| free|            NextSong|\n",
      "|100025| free|            NextSong|\n",
      "|100025| free|            NextSong|\n",
      "|100025| free|     Add to Playlist|\n",
      "|100025| free|            NextSong|\n",
      "|100025| free|         Roll Advert|\n",
      "|100025| free|            NextSong|\n",
      "|100025| free|            NextSong|\n",
      "|100025| free|            NextSong|\n",
      "|100025| free|            NextSong|\n",
      "|100025| free|            NextSong|\n",
      "|100025| free|            NextSong|\n",
      "|100025| free|            NextSong|\n",
      "|100025| free|            NextSong|\n",
      "|100025| free|            NextSong|\n",
      "|100025| free|            NextSong|\n",
      "|100025| free|           Thumbs Up|\n",
      "|100025| free|            NextSong|\n",
      "|100025| free|         Thumbs Down|\n",
      "|100025| free|            NextSong|\n",
      "|100025| free|          Add Friend|\n",
      "|100025| free|          Add Friend|\n",
      "|100025| free|            NextSong|\n",
      "|100025| free|            NextSong|\n",
      "|100025| free|            NextSong|\n",
      "|100025| free|            NextSong|\n",
      "|100025| free|            NextSong|\n",
      "|100025| free|            NextSong|\n",
      "|100025| free|            NextSong|\n",
      "|100025| free|         Roll Advert|\n",
      "|100025| free|            NextSong|\n",
      "|100025| free|            NextSong|\n",
      "|100025| free|            NextSong|\n",
      "|100025| free|            NextSong|\n",
      "|100025| free|            NextSong|\n",
      "|100025| free|            NextSong|\n",
      "|100025| free|     Add to Playlist|\n",
      "|100025| free|            NextSong|\n",
      "|100025| free|            NextSong|\n",
      "|100025| free|         Roll Advert|\n",
      "|100025| free|            NextSong|\n",
      "|100025| free|            NextSong|\n",
      "|100025| free|         Roll Advert|\n",
      "|100025| free|            NextSong|\n",
      "|100025| free|         Roll Advert|\n",
      "|100025| free|            NextSong|\n",
      "|100025| free|            NextSong|\n",
      "|100025| free|            NextSong|\n",
      "|100025| free|            NextSong|\n",
      "|100025| free|            NextSong|\n",
      "|100025| free|         Roll Advert|\n",
      "|100025| free|            NextSong|\n",
      "|100025| free|         Roll Advert|\n",
      "|100025| free|            NextSong|\n",
      "|100025| free|           Thumbs Up|\n",
      "|100025| free|            NextSong|\n",
      "|100025| free|            NextSong|\n",
      "|100025| free|            NextSong|\n",
      "|100025| free|            NextSong|\n",
      "|100025| free|            NextSong|\n",
      "|100025| free|            NextSong|\n",
      "|100025| free|            NextSong|\n",
      "|100025| free|            NextSong|\n",
      "|100025| free|           Thumbs Up|\n",
      "|100025| free|            NextSong|\n",
      "|100025| free|            NextSong|\n",
      "|100025| free|                Home|\n",
      "|100025| paid|    Submit Downgrade|\n",
      "|100025| paid|           Downgrade|\n",
      "|100025| paid|            NextSong|\n",
      "|100025| paid|           Thumbs Up|\n",
      "|100025| paid|            NextSong|\n",
      "|100025| paid|            NextSong|\n",
      "|100025| paid|            NextSong|\n",
      "|100025| paid|            NextSong|\n",
      "|100025| paid|                Home|\n",
      "|100025| paid|                Help|\n",
      "|100025| paid|            NextSong|\n",
      "|100025| paid|            NextSong|\n",
      "|100025| paid|            NextSong|\n",
      "|100025| paid|            NextSong|\n",
      "|100025| paid|            NextSong|\n",
      "|100025| paid|            NextSong|\n",
      "|100025| paid|            NextSong|\n",
      "|100025| paid|            NextSong|\n",
      "|100025| paid|            NextSong|\n",
      "|100025| paid|            NextSong|\n",
      "|100025| paid|            NextSong|\n",
      "|100025| paid|                Home|\n",
      "|100025| paid|            NextSong|\n",
      "|100025| paid|     Add to Playlist|\n",
      "|100025| paid|           Thumbs Up|\n",
      "|100025| paid|            NextSong|\n",
      "|100025| paid|            NextSong|\n",
      "|100025| paid|            NextSong|\n",
      "|100025| paid|                Home|\n",
      "|100025| paid|            NextSong|\n",
      "+------+-----+--------------------+\n",
      "only showing top 240 rows\n",
      "\n"
     ]
    }
   ],
   "source": [
    "#explore data for one user to see the downgrade of services\n",
    "df.select(['userId', 'level', 'page']).where((df['userId']=='100025')).sort(desc('ts')).show(240)"
   ]
  },
  {
   "cell_type": "markdown",
   "metadata": {},
   "source": [
    "# observation of the behaviour for the churned users"
   ]
  },
  {
   "cell_type": "markdown",
   "metadata": {},
   "source": [
    "## Observe impact of the gender"
   ]
  },
  {
   "cell_type": "code",
   "execution_count": 38,
   "metadata": {},
   "outputs": [],
   "source": [
    "def display_bar_chart(df, column, title):\n",
    "    '''\n",
    "     This function is to display our case in bar chart \n",
    "    \n",
    "    Args:\n",
    "        df (pandas dataframe): dataframe that contacts columns ['comments'] and ['polarity'].\n",
    "        column = the column we want to display it as x in our chart.\n",
    "        title = the title of our chart.\n",
    "    \n",
    "    Returns:\n",
    "        Bar chart with easly checing the values and data\n",
    "    '''\n",
    "    vals = df[column].value_counts()\n",
    "    plt.figure(figsize=(16, 8));\n",
    "    (vals[:16]).plot(kind=\"bar\", color=[ 'Aqua' , 'Orange', 'red', 'green', 'blue', 'cyan'] ,edgecolor='blue' );\n",
    "    plt.title(title , color='black', size = 12, weight = 'bold');"
   ]
  },
  {
   "cell_type": "code",
   "execution_count": 30,
   "metadata": {},
   "outputs": [],
   "source": [
    "#create new dataframe for each kind of churn\n",
    "gender_of_churn_paid = df.select(['userId', 'gender']).where((df['churn_paid']==1)&(df['churn_cancelled']==0)).dropDuplicates().toPandas()\n",
    "gender_of_churn_cancelled = df.select(['userId', 'gender']).where((df['churn_paid']==0)&(df['churn_cancelled']==1)).dropDuplicates().toPandas()\n"
   ]
  },
  {
   "cell_type": "code",
   "execution_count": 43,
   "metadata": {},
   "outputs": [
    {
     "data": {
      "text/html": [
       "<div>\n",
       "<style scoped>\n",
       "    .dataframe tbody tr th:only-of-type {\n",
       "        vertical-align: middle;\n",
       "    }\n",
       "\n",
       "    .dataframe tbody tr th {\n",
       "        vertical-align: top;\n",
       "    }\n",
       "\n",
       "    .dataframe thead th {\n",
       "        text-align: right;\n",
       "    }\n",
       "</style>\n",
       "<table border=\"1\" class=\"dataframe\">\n",
       "  <thead>\n",
       "    <tr style=\"text-align: right;\">\n",
       "      <th></th>\n",
       "      <th>userId</th>\n",
       "      <th>gender</th>\n",
       "    </tr>\n",
       "  </thead>\n",
       "  <tbody>\n",
       "    <tr>\n",
       "      <th>0</th>\n",
       "      <td>11</td>\n",
       "      <td>F</td>\n",
       "    </tr>\n",
       "    <tr>\n",
       "      <th>1</th>\n",
       "      <td>30</td>\n",
       "      <td>M</td>\n",
       "    </tr>\n",
       "    <tr>\n",
       "      <th>2</th>\n",
       "      <td>59</td>\n",
       "      <td>M</td>\n",
       "    </tr>\n",
       "    <tr>\n",
       "      <th>3</th>\n",
       "      <td>85</td>\n",
       "      <td>M</td>\n",
       "    </tr>\n",
       "    <tr>\n",
       "      <th>4</th>\n",
       "      <td>35</td>\n",
       "      <td>F</td>\n",
       "    </tr>\n",
       "    <tr>\n",
       "      <th>5</th>\n",
       "      <td>100008</td>\n",
       "      <td>F</td>\n",
       "    </tr>\n",
       "    <tr>\n",
       "      <th>6</th>\n",
       "      <td>300002</td>\n",
       "      <td>F</td>\n",
       "    </tr>\n",
       "    <tr>\n",
       "      <th>7</th>\n",
       "      <td>96</td>\n",
       "      <td>F</td>\n",
       "    </tr>\n",
       "    <tr>\n",
       "      <th>8</th>\n",
       "      <td>100</td>\n",
       "      <td>M</td>\n",
       "    </tr>\n",
       "    <tr>\n",
       "      <th>9</th>\n",
       "      <td>61</td>\n",
       "      <td>M</td>\n",
       "    </tr>\n",
       "  </tbody>\n",
       "</table>\n",
       "</div>"
      ],
      "text/plain": [
       "   userId gender\n",
       "0      11      F\n",
       "1      30      M\n",
       "2      59      M\n",
       "3      85      M\n",
       "4      35      F\n",
       "5  100008      F\n",
       "6  300002      F\n",
       "7      96      F\n",
       "8     100      M\n",
       "9      61      M"
      ]
     },
     "execution_count": 43,
     "metadata": {},
     "output_type": "execute_result"
    }
   ],
   "source": [
    "gender_of_churn_paid.head(10)"
   ]
  },
  {
   "cell_type": "code",
   "execution_count": 39,
   "metadata": {},
   "outputs": [
    {
     "data": {
      "image/png": "[encoded data removed]",
      "text/plain": [
       "<matplotlib.figure.Figure at 0x7fa5ec4614a8>"
      ]
     },
     "metadata": {
      "needs_background": "light"
     },
     "output_type": "display_data"
    }
   ],
   "source": [
    "#Display bar to gender_of_churn_paid\n",
    "display_bar_chart(gender_of_churn_paid, \"gender\", \"Gender Of Churn Paid\")"
   ]
  },
  {
   "cell_type": "code",
   "execution_count": 44,
   "metadata": {},
   "outputs": [
    {
     "data": {
      "text/html": [
       "<div>\n",
       "<style scoped>\n",
       "    .dataframe tbody tr th:only-of-type {\n",
       "        vertical-align: middle;\n",
       "    }\n",
       "\n",
       "    .dataframe tbody tr th {\n",
       "        vertical-align: top;\n",
       "    }\n",
       "\n",
       "    .dataframe thead th {\n",
       "        text-align: right;\n",
       "    }\n",
       "</style>\n",
       "<table border=\"1\" class=\"dataframe\">\n",
       "  <thead>\n",
       "    <tr style=\"text-align: right;\">\n",
       "      <th></th>\n",
       "      <th>userId</th>\n",
       "      <th>gender</th>\n",
       "    </tr>\n",
       "  </thead>\n",
       "  <tbody>\n",
       "    <tr>\n",
       "      <th>0</th>\n",
       "      <td>125</td>\n",
       "      <td>M</td>\n",
       "    </tr>\n",
       "    <tr>\n",
       "      <th>1</th>\n",
       "      <td>51</td>\n",
       "      <td>M</td>\n",
       "    </tr>\n",
       "    <tr>\n",
       "      <th>2</th>\n",
       "      <td>100014</td>\n",
       "      <td>M</td>\n",
       "    </tr>\n",
       "    <tr>\n",
       "      <th>3</th>\n",
       "      <td>101</td>\n",
       "      <td>M</td>\n",
       "    </tr>\n",
       "    <tr>\n",
       "      <th>4</th>\n",
       "      <td>100021</td>\n",
       "      <td>M</td>\n",
       "    </tr>\n",
       "    <tr>\n",
       "      <th>5</th>\n",
       "      <td>29</td>\n",
       "      <td>M</td>\n",
       "    </tr>\n",
       "    <tr>\n",
       "      <th>6</th>\n",
       "      <td>73</td>\n",
       "      <td>F</td>\n",
       "    </tr>\n",
       "    <tr>\n",
       "      <th>7</th>\n",
       "      <td>87</td>\n",
       "      <td>M</td>\n",
       "    </tr>\n",
       "    <tr>\n",
       "      <th>8</th>\n",
       "      <td>3</td>\n",
       "      <td>M</td>\n",
       "    </tr>\n",
       "    <tr>\n",
       "      <th>9</th>\n",
       "      <td>28</td>\n",
       "      <td>F</td>\n",
       "    </tr>\n",
       "  </tbody>\n",
       "</table>\n",
       "</div>"
      ],
      "text/plain": [
       "   userId gender\n",
       "0     125      M\n",
       "1      51      M\n",
       "2  100014      M\n",
       "3     101      M\n",
       "4  100021      M\n",
       "5      29      M\n",
       "6      73      F\n",
       "7      87      M\n",
       "8       3      M\n",
       "9      28      F"
      ]
     },
     "execution_count": 44,
     "metadata": {},
     "output_type": "execute_result"
    }
   ],
   "source": [
    "gender_of_churn_cancelled.head(10)"
   ]
  },
  {
   "cell_type": "code",
   "execution_count": 40,
   "metadata": {},
   "outputs": [
    {
     "data": {
      "image/png": "[encoded data removed]",
      "text/plain": [
       "<matplotlib.figure.Figure at 0x7fa5ec1b7cc0>"
      ]
     },
     "metadata": {
      "needs_background": "light"
     },
     "output_type": "display_data"
    }
   ],
   "source": [
    "#Display bar to gender_of_churn_paid\n",
    "display_bar_chart(gender_of_churn_cancelled, \"gender\", \"Gender Of Churn Services\")"
   ]
  },
  {
   "cell_type": "markdown",
   "metadata": {},
   "source": [
    "# Feature Engineering\n",
    "Once you've familiarized yourself with the data, build out the features you find promising to train your model on. To work with the full dataset, you can follow the following steps.\n",
    "- Write a script to extract the necessary features from the smaller subset of data\n",
    "- Ensure that your script is scalable, using the best practices discussed in Lesson 3\n",
    "- Try your script on the full data set, debugging your script if necessary\n",
    "\n",
    "If you are working in the classroom workspace, you can just extract features based on the small subset of data contained here. Be sure to transfer over this work to the larger dataset when you work on your Spark cluster."
   ]
  },
  {
   "cell_type": "code",
   "execution_count": null,
   "metadata": {},
   "outputs": [],
   "source": []
  },
  {
   "cell_type": "markdown",
   "metadata": {},
   "source": [
    "# Modeling\n",
    "Split the full dataset into train, test, and validation sets. Test out several of the machine learning methods you learned. Evaluate the accuracy of the various models, tuning parameters as necessary. Determine your winning model based on test accuracy and report results on the validation set. Since the churned users are a fairly small subset, I suggest using F1 score as the metric to optimize."
   ]
  },
  {
   "cell_type": "code",
   "execution_count": null,
   "metadata": {},
   "outputs": [],
   "source": []
  },
  {
   "cell_type": "markdown",
   "metadata": {},
   "source": [
    "# Final Steps\n",
    "Clean up your code, adding comments and renaming variables to make the code easier to read and maintain. Refer to the Spark Project Overview page and Data Scientist Capstone Project Rubric to make sure you are including all components of the capstone project and meet all expectations. Remember, this includes thorough documentation in a README file in a Github repository, as well as a web app or blog post."
   ]
  },
  {
   "cell_type": "code",
   "execution_count": null,
   "metadata": {},
   "outputs": [],
   "source": []
  }
 ],
 "metadata": {
  "kernelspec": {
   "display_name": "Python 3",
   "language": "python",
   "name": "python3"
  },
  "language_info": {
   "codemirror_mode": {
    "name": "ipython",
    "version": 3
   },
   "file_extension": ".py",
   "mimetype": "text/x-python",
   "name": "python",
   "nbconvert_exporter": "python",
   "pygments_lexer": "ipython3",
   "version": "3.6.3"
  }
 },
 "nbformat": 4,
 "nbformat_minor": 2
}
